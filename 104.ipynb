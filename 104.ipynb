{
 "cells": [
  {
   "cell_type": "markdown",
   "metadata": {},
   "source": [
    "# 06/27\n",
    "# Intro to Programming"
   ]
  },
  {
   "cell_type": "markdown",
   "metadata": {},
   "source": [
    "### Arguments <a id='arguments' ></a>\n",
    "1. Required Arguments: arguments passed in correct positional order\n",
    "2. Keyword Arguments: caller identifies the arguments by parameter name\n",
    "3. Default Arguments: argument assumes a default value if value is not provided in function call for that argument"
   ]
  },
  {
   "cell_type": "code",
   "execution_count": 5,
   "metadata": {},
   "outputs": [
    {
     "name": "stdout",
     "output_type": "stream",
     "text": [
      "James 15\n",
      "John 12\n",
      "Jack 5\n",
      "13 5\n"
     ]
    },
    {
     "ename": "TypeError",
     "evalue": "printinfo() missing 1 required positional argument: 'name'",
     "output_type": "error",
     "traceback": [
      "\u001b[1;31m---------------------------------------------------------------------------\u001b[0m",
      "\u001b[1;31mTypeError\u001b[0m                                 Traceback (most recent call last)",
      "\u001b[1;32m<ipython-input-5-ecbfe6492aa9>\u001b[0m in \u001b[0;36m<module>\u001b[1;34m\u001b[0m\n\u001b[0;32m      7\u001b[0m \u001b[0mprintinfo\u001b[0m\u001b[1;33m(\u001b[0m\u001b[1;34m\"Jack\"\u001b[0m\u001b[1;33m)\u001b[0m\u001b[1;33m\u001b[0m\u001b[1;33m\u001b[0m\u001b[0m\n\u001b[0;32m      8\u001b[0m \u001b[0mprintinfo\u001b[0m\u001b[1;33m(\u001b[0m\u001b[1;36m13\u001b[0m\u001b[1;33m)\u001b[0m\u001b[1;33m\u001b[0m\u001b[1;33m\u001b[0m\u001b[0m\n\u001b[1;32m----> 9\u001b[1;33m \u001b[0mprintinfo\u001b[0m\u001b[1;33m(\u001b[0m\u001b[1;33m)\u001b[0m\u001b[1;33m\u001b[0m\u001b[1;33m\u001b[0m\u001b[0m\n\u001b[0m",
      "\u001b[1;31mTypeError\u001b[0m: printinfo() missing 1 required positional argument: 'name'"
     ]
    }
   ],
   "source": [
    "def printinfo(name, num=5):\n",
    "    print(name, num)\n",
    "    return\n",
    "\n",
    "printinfo(\"James\", 15)\n",
    "printinfo(num=12, name=\"John\")\n",
    "printinfo(\"Jack\")\n",
    "printinfo(13)\n",
    "printinfo()"
   ]
  },
  {
   "cell_type": "code",
   "execution_count": 7,
   "metadata": {},
   "outputs": [
    {
     "name": "stdout",
     "output_type": "stream",
     "text": [
      "a is 23 and b is 32 and c is 44\n",
      "a is 23 and b is 5 and c is 10\n",
      "a is 23 and b is 5 and c is 32\n"
     ]
    },
    {
     "ename": "TypeError",
     "evalue": "func() missing 1 required positional argument: 'a'",
     "output_type": "error",
     "traceback": [
      "\u001b[1;31m---------------------------------------------------------------------------\u001b[0m",
      "\u001b[1;31mTypeError\u001b[0m                                 Traceback (most recent call last)",
      "\u001b[1;32m<ipython-input-7-61aa9e7aa7a0>\u001b[0m in \u001b[0;36m<module>\u001b[1;34m\u001b[0m\n\u001b[0;32m      5\u001b[0m \u001b[0mfunc\u001b[0m\u001b[1;33m(\u001b[0m\u001b[1;36m23\u001b[0m\u001b[1;33m)\u001b[0m\u001b[1;33m\u001b[0m\u001b[1;33m\u001b[0m\u001b[0m\n\u001b[0;32m      6\u001b[0m \u001b[0mfunc\u001b[0m\u001b[1;33m(\u001b[0m\u001b[1;36m23\u001b[0m\u001b[1;33m,\u001b[0m \u001b[0mc\u001b[0m\u001b[1;33m=\u001b[0m\u001b[1;36m32\u001b[0m\u001b[1;33m)\u001b[0m\u001b[1;33m\u001b[0m\u001b[1;33m\u001b[0m\u001b[0m\n\u001b[1;32m----> 7\u001b[1;33m \u001b[0mfunc\u001b[0m\u001b[1;33m(\u001b[0m\u001b[0mb\u001b[0m\u001b[1;33m=\u001b[0m\u001b[1;36m14\u001b[0m\u001b[1;33m,\u001b[0m \u001b[0mc\u001b[0m\u001b[1;33m=\u001b[0m\u001b[1;36m21\u001b[0m\u001b[1;33m)\u001b[0m\u001b[1;33m\u001b[0m\u001b[1;33m\u001b[0m\u001b[0m\n\u001b[0m",
      "\u001b[1;31mTypeError\u001b[0m: func() missing 1 required positional argument: 'a'"
     ]
    }
   ],
   "source": [
    "def func(a, b=5, c=10):\n",
    "    print('a is', a, 'and b is', b, 'and c is', c)\n",
    "\n",
    "func(23, 32, 44)\n",
    "func(23)\n",
    "func(23, c=32)\n",
    "func(b=14, c=21)"
   ]
  },
  {
   "cell_type": "code",
   "execution_count": 9,
   "metadata": {},
   "outputs": [
    {
     "name": "stdout",
     "output_type": "stream",
     "text": [
      "False\n",
      "True\n"
     ]
    }
   ],
   "source": [
    "def test(a, b=99):\n",
    "    return a>b\n",
    "\n",
    "print(test(23))\n",
    "print(test(23, 12))"
   ]
  },
  {
   "cell_type": "markdown",
   "metadata": {},
   "source": [
    "### Variable Arguments <a id='variable arguments' ></a>"
   ]
  },
  {
   "cell_type": "code",
   "execution_count": 14,
   "metadata": {},
   "outputs": [
    {
     "name": "stdout",
     "output_type": "stream",
     "text": [
      "12 (13, 14, 15, 16, 17) <class 'tuple'> 5\n",
      "13:14:15:16:17:\b\n",
      "\n",
      "2 (3, 4, 5, 6, 7, 'a', 'b', 'c') <class 'tuple'> 8\n",
      "3:4:5:6:7:a:b:c:\b\n"
     ]
    }
   ],
   "source": [
    "# *x will pack the rest of the arguments into a tuple called x\n",
    "def tvar(b, *x):\n",
    "    print(b, x, type(x), len(x))\n",
    "    for num in x:\n",
    "        print(num, end=\":\")\n",
    "    print('\\b')\n",
    "        \n",
    "tvar(12, 13, 14, 15, 16, 17)\n",
    "print()\n",
    "tvar(2, 3, 4, 5, 6, 7, 'a', 'b', 'c')"
   ]
  },
  {
   "cell_type": "markdown",
   "metadata": {},
   "source": [
    "### Multiple Return Values <a id='multiplereturn' ></a>"
   ]
  },
  {
   "cell_type": "code",
   "execution_count": 17,
   "metadata": {},
   "outputs": [
    {
     "name": "stdout",
     "output_type": "stream",
     "text": [
      "50 10 <class 'int'> <class 'int'>\n",
      "(90, 30) <class 'tuple'> 30\n"
     ]
    }
   ],
   "source": [
    "def sumdiff(n1, n2):\n",
    "    s = n1 + n2\n",
    "    d = n1 - n2\n",
    "    return s,d\n",
    "\n",
    "s1,d1 = sumdiff(30, 20)\n",
    "print(s1, d1, type(s1), type(d1))\n",
    "\n",
    "# if only one variable used to capture multiple returns, then all arguments are packed into one tuple\n",
    "r1 = sumdiff(60, 30)\n",
    "print(r1, type(r1), r1[1])"
   ]
  },
  {
   "cell_type": "code",
   "execution_count": 20,
   "metadata": {},
   "outputs": [
    {
     "name": "stdout",
     "output_type": "stream",
     "text": [
      "(30, 3840)\n",
      "(9, 15)\n"
     ]
    }
   ],
   "source": [
    "def vcalc(*x):\n",
    "    sumx = 0\n",
    "    prodx = 1\n",
    "    for i in x:\n",
    "        sumx = sumx + i\n",
    "        prodx = prodx * i\n",
    "    return sumx, prodx\n",
    "\n",
    "print(vcalc(2, 4, 6, 8, 10))\n",
    "print(vcalc(1, 3, 5))"
   ]
  },
  {
   "cell_type": "markdown",
   "metadata": {},
   "source": [
    "### Higher Order Functions <a id='higherorderfunc'></a>\n",
    "* Either takes a function as a parameter or returns a function"
   ]
  },
  {
   "cell_type": "code",
   "execution_count": 24,
   "metadata": {},
   "outputs": [
    {
     "name": "stdout",
     "output_type": "stream",
     "text": [
      "['__abs__', '__add__', '__and__', '__bool__', '__ceil__', '__class__', '__delattr__', '__dir__', '__divmod__', '__doc__', '__eq__', '__float__', '__floor__', '__floordiv__', '__format__', '__ge__', '__getattribute__', '__getnewargs__', '__gt__', '__hash__', '__index__', '__init__', '__init_subclass__', '__int__', '__invert__', '__le__', '__lshift__', '__lt__', '__mod__', '__mul__', '__ne__', '__neg__', '__new__', '__or__', '__pos__', '__pow__', '__radd__', '__rand__', '__rdivmod__', '__reduce__', '__reduce_ex__', '__repr__', '__rfloordiv__', '__rlshift__', '__rmod__', '__rmul__', '__ror__', '__round__', '__rpow__', '__rrshift__', '__rshift__', '__rsub__', '__rtruediv__', '__rxor__', '__setattr__', '__sizeof__', '__str__', '__sub__', '__subclasshook__', '__truediv__', '__trunc__', '__xor__', 'bit_length', 'conjugate', 'denominator', 'from_bytes', 'imag', 'numerator', 'real', 'to_bytes']\n",
      "['from_bytes', 'imag', 'numerator', 'real', 'to_bytes']\n"
     ]
    }
   ],
   "source": [
    "def high(func, value):\n",
    "    return func(value)\n",
    "\n",
    "lst = high(dir, int)\n",
    "print(lst)\n",
    "print(lst[-5:])"
   ]
  },
  {
   "cell_type": "markdown",
   "metadata": {},
   "source": [
    "### Global Variables <a id='globalvar'></a>"
   ]
  },
  {
   "cell_type": "code",
   "execution_count": 25,
   "metadata": {},
   "outputs": [
    {
     "name": "stdout",
     "output_type": "stream",
     "text": [
      "global\n",
      "local\n"
     ]
    }
   ],
   "source": [
    "x = 'global'\n",
    "def func1():\n",
    "    y = 'local'\n",
    "    print(x)\n",
    "    print(y)\n",
    "\n",
    "func1()"
   ]
  },
  {
   "cell_type": "code",
   "execution_count": 27,
   "metadata": {},
   "outputs": [
    {
     "name": "stdout",
     "output_type": "stream",
     "text": [
      "outer 20\n",
      "inner 30\n",
      "outer 20\n",
      "inner 30\n",
      "outer 30\n"
     ]
    }
   ],
   "source": [
    "x = 20\n",
    "def func2():\n",
    "    x = 30\n",
    "    print(\"inner\", x)\n",
    "    \n",
    "def func3():\n",
    "    global x\n",
    "    x = 30\n",
    "    print(\"inner\", x)\n",
    "    \n",
    "print(\"outer\", x)\n",
    "func2()\n",
    "print(\"outer\", x)\n",
    "func3()\n",
    "print(\"outer\", x)"
   ]
  },
  {
   "cell_type": "markdown",
   "metadata": {},
   "source": [
    "### Nonlocal Variables <a id='nonlocalvar'></a>\n",
    "* used in nested functions whose local scope is not defined\n",
    "* variable is neither in the local or global scope"
   ]
  },
  {
   "cell_type": "code",
   "execution_count": 32,
   "metadata": {},
   "outputs": [
    {
     "name": "stdout",
     "output_type": "stream",
     "text": [
      "outer local\n",
      "inner1 nonlocal\n",
      "outer local\n",
      "inner2 nonlocal\n",
      "outer nonlocal\n"
     ]
    }
   ],
   "source": [
    "def outer():\n",
    "    x = \"local\"\n",
    "    \n",
    "    def inner1():\n",
    "        x = \"nonlocal\"\n",
    "        print(\"inner1\", x)\n",
    "        \n",
    "    def inner2():\n",
    "        nonlocal x\n",
    "        x = \"nonlocal\"\n",
    "        print(\"inner2\", x)\n",
    "        \n",
    "    print(\"outer\", x)\n",
    "    inner1()\n",
    "    print(\"outer\", x)\n",
    "    inner2()\n",
    "    print(\"outer\", x)\n",
    "    \n",
    "outer()"
   ]
  },
  {
   "cell_type": "code",
   "execution_count": 37,
   "metadata": {},
   "outputs": [
    {
     "name": "stdout",
     "output_type": "stream",
     "text": [
      "main1 x111 y444 z777\n",
      "outer1 x222 y555 z888\n",
      "inner x333 y666 z999\n",
      "outer2 x333 y555 z888\n",
      "main2 x111 y666 z777\n"
     ]
    }
   ],
   "source": [
    "x = \"x111\"\n",
    "y = \"y444\"\n",
    "z = \"z777\"\n",
    "def outer():\n",
    "    x = \"x222\"\n",
    "    y = \"y555\"\n",
    "    z = \"z888\"\n",
    "    \n",
    "    def inner():\n",
    "        nonlocal x\n",
    "        global y\n",
    "        x = \"x333\"\n",
    "        y = \"y666\"\n",
    "        z = \"z999\"\n",
    "        \n",
    "        print(\"inner\", x, y, z)\n",
    "    \n",
    "    print(\"outer1\", x, y, z)\n",
    "    inner()\n",
    "    print(\"outer2\", x, y, z)\n",
    "    \n",
    "print(\"main1\", x, y, z)\n",
    "outer()\n",
    "print(\"main2\", x, y, z)"
   ]
  },
  {
   "cell_type": "markdown",
   "metadata": {},
   "source": [
    "### Recursion <a id='recursion'></a>\n",
    "* calling a function within itself\n",
    "* breaking a problem down into smalller and smaller subproblems\n",
    "* until we get a small enough problem that it can be solved trivially (base case)"
   ]
  },
  {
   "cell_type": "code",
   "execution_count": 53,
   "metadata": {},
   "outputs": [
    {
     "name": "stdout",
     "output_type": "stream",
     "text": [
      "n = 7\n",
      "28\n"
     ]
    }
   ],
   "source": [
    "def sumr(n):\n",
    "    if n == 1:\n",
    "        return n\n",
    "    else:\n",
    "        return n + sumr(n-1)\n",
    "\n",
    "print(sumr(int(input(\"n = \"))))"
   ]
  },
  {
   "cell_type": "code",
   "execution_count": 51,
   "metadata": {},
   "outputs": [
    {
     "name": "stdout",
     "output_type": "stream",
     "text": [
      "n = 6\n",
      "720\n"
     ]
    }
   ],
   "source": [
    "def factorial(n):\n",
    "    if n <= 1:\n",
    "        return 1\n",
    "    else:\n",
    "        return n * factorial(n-1)\n",
    "    \n",
    "print(factorial(int(input(\"n = \"))))"
   ]
  },
  {
   "cell_type": "code",
   "execution_count": 1,
   "metadata": {},
   "outputs": [
    {
     "name": "stdout",
     "output_type": "stream",
     "text": [
      "upper = 10\n",
      "1:2:3:4:5:6:7:8:9:10:"
     ]
    }
   ],
   "source": [
    "def printnos(upper):\n",
    "    if upper > 0:\n",
    "        printnos(upper-1)\n",
    "        print(upper, end=\":\")\n",
    "        \n",
    "printnos(int(input(\"upper = \")))"
   ]
  },
  {
   "cell_type": "markdown",
   "metadata": {},
   "source": [
    "### Lambda <a id='lambda'></a>\n",
    "* used to create anonymous function objects\n",
    "* lambda {arguments} : {expression}"
   ]
  },
  {
   "cell_type": "code",
   "execution_count": 6,
   "metadata": {},
   "outputs": [
    {
     "name": "stdout",
     "output_type": "stream",
     "text": [
      "ms = 7\n",
      "10 + 20 = 30\n"
     ]
    }
   ],
   "source": [
    "addsum = lambda x,y : x + y\n",
    "ms = addsum(2, 5)\n",
    "print(\"ms =\", ms)\n",
    "print(\"10 + 20 =\", addsum(10, 20))"
   ]
  },
  {
   "cell_type": "code",
   "execution_count": 18,
   "metadata": {},
   "outputs": [
    {
     "name": "stdout",
     "output_type": "stream",
     "text": [
      "4\n",
      "6\n"
     ]
    }
   ],
   "source": [
    "fun = lambda x,y : x if x>y else y\n",
    "print(fun(3, 4))\n",
    "print(fun(6, 2))"
   ]
  },
  {
   "cell_type": "code",
   "execution_count": 22,
   "metadata": {},
   "outputs": [
    {
     "name": "stdout",
     "output_type": "stream",
     "text": [
      "n = 6\n",
      "6 X 1 = 6\n",
      "6 X 2 = 12\n",
      "6 X 3 = 18\n",
      "6 X 4 = 24\n",
      "6 X 5 = 30\n",
      "6 X 6 = 36\n",
      "6 X 7 = 42\n",
      "6 X 8 = 48\n",
      "6 X 9 = 54\n",
      "6 X 10 = 60\n"
     ]
    }
   ],
   "source": [
    "def table(n):\n",
    "    return lambda a : n*a\n",
    "\n",
    "n = int(input(\"n = \"))\n",
    "b = table(n)\n",
    "\n",
    "for i in range(1, 11):\n",
    "    print(n, \"X\", i, \"=\", b(i))"
   ]
  },
  {
   "cell_type": "markdown",
   "metadata": {},
   "source": [
    "### Map <a id='map'></a>\n",
    "* two arguments; function and list/tuple\n",
    "* creates a map object that applies the function to each elements in the list/tuple"
   ]
  },
  {
   "cell_type": "code",
   "execution_count": 11,
   "metadata": {},
   "outputs": [
    {
     "name": "stdout",
     "output_type": "stream",
     "text": [
      "[97.7, 98.60000000000001, 99.5, 100.4, 102.2]\n"
     ]
    }
   ],
   "source": [
    "#def fahrenheit(C):\n",
    "#    return ((float(9)/5)*C + 32)\n",
    "\n",
    "fahrenheit_lambda = lambda C : ((float(9)/5)*C + 32)\n",
    "\n",
    "temp_in_celsius = (36.5, 37, 37.5, 38, 39)\n",
    "\n",
    "temp_in_fahrenheit = map(fahrenheit_lambda, temp_in_celsius)\n",
    "tf = list(temp_in_fahrenheit)\n",
    "print(tf)"
   ]
  },
  {
   "cell_type": "code",
   "execution_count": 14,
   "metadata": {},
   "outputs": [
    {
     "name": "stdout",
     "output_type": "stream",
     "text": [
      "<class 'map'> <map object at 0x0000022531C26588>\n",
      "120\n",
      "168\n",
      "384\n",
      "528\n",
      "816\n",
      "1080\n"
     ]
    }
   ],
   "source": [
    "feet = [10, 14, 32, 44, 68, 90]\n",
    "inch = map(lambda F : F * 12, feet)\n",
    "print(type(inch), inch)\n",
    "for i in inch:\n",
    "    print(i)"
   ]
  },
  {
   "cell_type": "code",
   "execution_count": 16,
   "metadata": {},
   "outputs": [
    {
     "name": "stdout",
     "output_type": "stream",
     "text": [
      "97.7\n",
      "98.60000000000001\n",
      "99.5\n",
      "100.4\n",
      "102.2\n"
     ]
    }
   ],
   "source": [
    "cel = (36.5, 37, 37.5, 38, 39)\n",
    "fah = map(lambda C : ((float(9)/5)*C + 32), cel)\n",
    "for f in fah:\n",
    "    print(f)"
   ]
  },
  {
   "cell_type": "code",
   "execution_count": 25,
   "metadata": {},
   "outputs": [
    {
     "name": "stdout",
     "output_type": "stream",
     "text": [
      "[4, 1, 25, 49]\n"
     ]
    }
   ],
   "source": [
    "print(list(map(lambda x : x**2, [2, 1, 5, 7])))"
   ]
  },
  {
   "cell_type": "code",
   "execution_count": 26,
   "metadata": {},
   "outputs": [
    {
     "name": "stdout",
     "output_type": "stream",
     "text": [
      "[0, 0, 0, 0, 1, 0, 0, 1, 1, 1, 0, 1, 1]\n"
     ]
    }
   ],
   "source": [
    "num_list = [2, 6, 8, 10, 11, 4, 12, 7, 13, 17, 0, 3, 21]\n",
    "mapped_list = list(map(lambda x : x%2, num_list))\n",
    "print(mapped_list)"
   ]
  },
  {
   "cell_type": "markdown",
   "metadata": {},
   "source": [
    "### Filter <a id='filter'></a>\n",
    "* two arguments; function and list/tuple\n",
    "* creates a filter object that filters elements of list/tuple based on return value from function"
   ]
  },
  {
   "cell_type": "code",
   "execution_count": 38,
   "metadata": {},
   "outputs": [
    {
     "name": "stdout",
     "output_type": "stream",
     "text": [
      "[1, 4, 7, 10, 13, 16, 19, 22, 25, 28, 31, 34, 37, 40, 43, 46, 49, 52, 55, 58]\n",
      "<class 'filter'>\n",
      "[1, 7, 13, 19, 25, 31, 37, 43, 49, 55]\n",
      "[4, 10, 16, 22, 28, 34, 40, 46, 52, 58]\n"
     ]
    }
   ],
   "source": [
    "isodd = lambda x : x%2\n",
    "\n",
    "num1 = list(range(1, 60, 3))\n",
    "print(num1)\n",
    "\n",
    "oddf = filter(isodd, num1)\n",
    "print(type(oddf))\n",
    "print(list(oddf))\n",
    "\n",
    "evenf = list(filter(lambda x: not(x%2), num1))\n",
    "print(evenf)"
   ]
  },
  {
   "cell_type": "code",
   "execution_count": 39,
   "metadata": {},
   "outputs": [
    {
     "name": "stdout",
     "output_type": "stream",
     "text": [
      "[3, 4]\n"
     ]
    }
   ],
   "source": [
    "n = [1, 2, 3, 4]\n",
    "print(list(filter(lambda x : x>2, n)))"
   ]
  },
  {
   "cell_type": "markdown",
   "metadata": {},
   "source": [
    "### Reduce <a id='reduce'></a>\n",
    "* need to import from functools library\n",
    "* two arguments; function and list/tuple\n",
    "* reduces list by applying function on its elements repeatedly"
   ]
  },
  {
   "cell_type": "code",
   "execution_count": 8,
   "metadata": {},
   "outputs": [
    {
     "name": "stdout",
     "output_type": "stream",
     "text": [
      "product = 28800\n",
      "max = 10\n"
     ]
    }
   ],
   "source": [
    "from functools import reduce\n",
    "\n",
    "n = [2, 8, 5, 10, 4, 9]\n",
    "\n",
    "prodn = reduce(lambda x,y : x*y, n)\n",
    "print(\"product =\", prodn)\n",
    "\n",
    "maxn = reduce(lambda x,y : x if x>y else y, n)\n",
    "print(\"max =\", maxn)"
   ]
  },
  {
   "cell_type": "code",
   "execution_count": null,
   "metadata": {},
   "outputs": [],
   "source": []
  }
 ],
 "metadata": {
  "kernelspec": {
   "display_name": "Python 3",
   "language": "python",
   "name": "python3"
  },
  "language_info": {
   "codemirror_mode": {
    "name": "ipython",
    "version": 3
   },
   "file_extension": ".py",
   "mimetype": "text/x-python",
   "name": "python",
   "nbconvert_exporter": "python",
   "pygments_lexer": "ipython3",
   "version": "3.7.3"
  },
  "toc": {
   "base_numbering": 1,
   "nav_menu": {},
   "number_sections": false,
   "sideBar": true,
   "skip_h1_title": true,
   "title_cell": "Table of Contents",
   "title_sidebar": "Contents",
   "toc_cell": false,
   "toc_position": {},
   "toc_section_display": true,
   "toc_window_display": true
  }
 },
 "nbformat": 4,
 "nbformat_minor": 2
}
