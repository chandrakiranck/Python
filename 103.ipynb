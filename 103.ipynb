{
 "cells": [
  {
   "cell_type": "markdown",
   "metadata": {},
   "source": [
    "# 06/26\n",
    "# Intro to Programming"
   ]
  },
  {
   "cell_type": "code",
   "execution_count": 2,
   "metadata": {},
   "outputs": [
    {
     "name": "stdout",
     "output_type": "stream",
     "text": [
      "50\n",
      "[1, 3, 5, 7, 9, 11, 13, 15, 17, 19, 21, 23, 25, 27, 29, 31, 33, 35, 37, 39, 41, 43, 45, 47, 49, 51, 53, 55, 57, 59, 61, 63, 65, 67, 69, 71, 73, 75, 77, 79, 81, 83, 85, 87, 89, 91, 93, 95, 97, 99]\n"
     ]
    }
   ],
   "source": [
    "def oddrange(oddnumcount):\n",
    "    count = 0\n",
    "    num = 1\n",
    "    oddlist = []\n",
    "    while count < oddnumcount:\n",
    "        if num%2 != 0:\n",
    "            count = count + 1\n",
    "            oddlist.append(num)\n",
    "        num = num + 1\n",
    "    print(count)\n",
    "    return oddlist\n",
    "\n",
    "olist = oddrange(50)\n",
    "print(olist)"
   ]
  },
  {
   "cell_type": "code",
   "execution_count": 4,
   "metadata": {},
   "outputs": [
    {
     "name": "stdout",
     "output_type": "stream",
     "text": [
      "50\n",
      "[2, 4, 6, 8, 10, 12, 14, 16, 18, 20, 22, 24, 26, 28, 30, 32, 34, 36, 38, 40, 42, 44, 46, 48, 50, 52, 54, 56, 58, 60, 62, 64, 66, 68, 70, 72, 74, 76, 78, 80, 82, 84, 86, 88, 90, 92, 94, 96, 98, 100]\n"
     ]
    }
   ],
   "source": [
    "def evenrange(evennumcount):\n",
    "    count = 0\n",
    "    num = 1\n",
    "    evenlist = []\n",
    "    while count < evennumcount:\n",
    "        if num%2 == 0:\n",
    "            count = count + 1\n",
    "            evenlist.append(num)\n",
    "        num = num + 1\n",
    "    print(count)\n",
    "    return evenlist\n",
    "\n",
    "elist = evenrange(50)\n",
    "print(elist)"
   ]
  },
  {
   "cell_type": "code",
   "execution_count": 40,
   "metadata": {},
   "outputs": [
    {
     "name": "stdout",
     "output_type": "stream",
     "text": [
      "[23, 25, 27, 29, 31, 33, 35, 37, 39, 41, 43, 45, 47, 49, 51]\n"
     ]
    }
   ],
   "source": [
    "def oddrange(start, end):\n",
    "    oddlist = []\n",
    "    for num in range(start, end+1):\n",
    "        if num%2 != 0:\n",
    "            oddlist.append(num)\n",
    "        num = num + 1\n",
    "    return oddlist\n",
    "\n",
    "olist = oddrange(23, 51)\n",
    "print(olist)"
   ]
  },
  {
   "cell_type": "code",
   "execution_count": 41,
   "metadata": {},
   "outputs": [
    {
     "name": "stdout",
     "output_type": "stream",
     "text": [
      "[22, 24, 26, 28, 30, 32, 34, 36, 38, 40, 42, 44, 46, 48, 50, 52]\n"
     ]
    }
   ],
   "source": [
    "def evenrange(start, end):\n",
    "    evenlist = []\n",
    "    for num in range(start, end+1):\n",
    "        if num%2 == 0:\n",
    "            evenlist.append(num)\n",
    "        num = num + 1\n",
    "    return evenlist\n",
    "\n",
    "elist = evenrange(22, 52)\n",
    "print(elist)"
   ]
  },
  {
   "cell_type": "code",
   "execution_count": 68,
   "metadata": {},
   "outputs": [
    {
     "name": "stdout",
     "output_type": "stream",
     "text": [
      "False\n"
     ]
    }
   ],
   "source": [
    "def isPrime(x):\n",
    "    if x == 1:\n",
    "        return False\n",
    "    \n",
    "    if x == 2:\n",
    "        return True\n",
    "    \n",
    "    if x%2 == 0:\n",
    "        return False\n",
    "    \n",
    "    upperlimit = int(x**0.5 + 1)    \n",
    "    for i in range(3, upperlimit, 2):\n",
    "        if x%i == 0:\n",
    "            return False\n",
    "    \n",
    "    return True\n",
    "\n",
    "print(isPrime(51))"
   ]
  },
  {
   "cell_type": "code",
   "execution_count": 44,
   "metadata": {
    "scrolled": false
   },
   "outputs": [
    {
     "name": "stdout",
     "output_type": "stream",
     "text": [
      "[17, 19, 23, 29, 31, 37, 41, 43, 47, 53, 59, 61, 67, 71, 73, 79, 83, 89, 97, 101, 103, 107, 109, 113, 127, 131, 137, 139, 149, 151, 157, 163, 167, 173, 179, 181, 191, 193, 197, 199, 211, 223, 227, 229, 233, 239, 241, 251, 257, 263, 269, 271, 277, 281, 283, 293, 307, 311, 313, 317, 331, 337, 347, 349, 353, 359, 367, 373, 379, 383, 389, 397, 401, 409, 419, 421, 431, 433, 439, 443, 449, 457, 461, 463, 467, 479, 487, 491, 499, 503, 509, 521, 523, 541, 547, 557, 563, 569, 571, 577, 587, 593, 599, 601, 607, 613, 617, 619, 631, 641, 643, 647, 653, 659, 661, 673, 677]\n"
     ]
    }
   ],
   "source": [
    "def primeList(start, end):\n",
    "    plist = []\n",
    "    for i in range(start, end+1):\n",
    "        if isPrime(i):\n",
    "            plist.append(i)\n",
    "    return plist\n",
    "\n",
    "print(primeList(16, 677))"
   ]
  },
  {
   "cell_type": "markdown",
   "metadata": {},
   "source": [
    "### List Comprehension <a id='listcomprehension' ></a>"
   ]
  },
  {
   "cell_type": "code",
   "execution_count": 51,
   "metadata": {},
   "outputs": [
    {
     "name": "stdout",
     "output_type": "stream",
     "text": [
      "[0, 1, 2, 3, 4, 5, 6, 7, 8, 9, 10, 11, 12, 13, 14, 15, 16, 17, 18, 19, 20, 21, 22, 23, 24, 25, 26, 27, 28, 29, 30, 31, 32, 33, 34, 35, 36, 37, 38, 39, 40, 41, 42, 43, 44, 45, 46, 47, 48, 49, 50, 51, 52, 53, 54, 55, 56, 57, 58, 59, 60, 61, 62, 63, 64, 65, 66, 67, 68, 69, 70, 71, 72, 73, 74, 75, 76, 77, 78, 79, 80, 81, 82, 83, 84, 85, 86, 87, 88, 89, 90, 91, 92, 93, 94, 95, 96, 97, 98, 99]\n",
      "<class 'list'>\n"
     ]
    }
   ],
   "source": [
    "newlist = [x for x in range(100)]\n",
    "print(newlist)\n",
    "print(type(newlist))"
   ]
  },
  {
   "cell_type": "code",
   "execution_count": 52,
   "metadata": {},
   "outputs": [
    {
     "name": "stdout",
     "output_type": "stream",
     "text": [
      "[0, 1, 4, 9, 16, 25, 36, 49, 64, 81, 100, 121, 144, 169, 196, 225, 256, 289, 324, 361, 400, 441, 484, 529, 576, 625, 676, 729, 784, 841, 900, 961, 1024, 1089, 1156, 1225, 1296, 1369, 1444, 1521, 1600, 1681, 1764, 1849, 1936, 2025, 2116, 2209, 2304, 2401]\n"
     ]
    }
   ],
   "source": [
    "newlist = [x*x for x in range(50)]\n",
    "print(newlist)"
   ]
  },
  {
   "cell_type": "code",
   "execution_count": 49,
   "metadata": {},
   "outputs": [
    {
     "name": "stdout",
     "output_type": "stream",
     "text": [
      "[1, 2, 4, 8, 16, 32, 64, 128, 256, 512]\n"
     ]
    }
   ],
   "source": [
    "newlist = [2**x for x in range(10)]\n",
    "print(newlist)"
   ]
  },
  {
   "cell_type": "code",
   "execution_count": 54,
   "metadata": {},
   "outputs": [
    {
     "name": "stdout",
     "output_type": "stream",
     "text": [
      "[0, 1, 8, 27, 64, 125, 216, 343, 512, 729, 1000, 1331, 1728, 2197, 2744, 3375, 4096, 4913, 5832, 6859]\n"
     ]
    }
   ],
   "source": [
    "newlist = [x**3 for x in range(20)]\n",
    "print(newlist)"
   ]
  },
  {
   "cell_type": "code",
   "execution_count": 55,
   "metadata": {},
   "outputs": [
    {
     "name": "stdout",
     "output_type": "stream",
     "text": [
      "[0, 1, 2, 0, 1, 2, 0, 1, 2, 0, 1, 2, 0, 1, 2, 0, 1, 2, 0, 1, 2, 0, 1, 2, 0, 1, 2, 0, 1, 2]\n"
     ]
    }
   ],
   "source": [
    "newlist = [x%3 for x in range(30)]\n",
    "print(newlist)"
   ]
  },
  {
   "cell_type": "code",
   "execution_count": 58,
   "metadata": {},
   "outputs": [
    {
     "name": "stdout",
     "output_type": "stream",
     "text": [
      "[5, 1, -1, -1, 1, 5, 11, 19, 29, 41]\n"
     ]
    }
   ],
   "source": [
    "newlist = [x*x - 5*x + 5 for x in range(10)]\n",
    "print(newlist)"
   ]
  },
  {
   "cell_type": "code",
   "execution_count": 69,
   "metadata": {},
   "outputs": [
    {
     "name": "stdout",
     "output_type": "stream",
     "text": [
      "[0, 2, 4, 6, 8, 10, 12, 14, 16, 18, 20, 22, 24, 26, 28, 30, 32, 34, 36, 38, 40, 42, 44, 46, 48]\n",
      "[1, 3, 5, 7, 9, 11, 13, 15, 17, 19, 21, 23, 25, 27, 29, 31, 33, 35, 37, 39, 41, 43, 45, 47, 49]\n",
      "[2, 3, 5, 7, 11, 13, 17, 19, 23, 29, 31, 37, 41, 43, 47]\n"
     ]
    }
   ],
   "source": [
    "evenlist = [x for x in range(50) if x%2 == 0]\n",
    "print(evenlist)\n",
    "\n",
    "oddlist = [x for x in range(50) if x%2 != 0]\n",
    "print(oddlist)\n",
    "\n",
    "primelist = [x for x in range(50) if isPrime(x)]\n",
    "print(primelist)"
   ]
  },
  {
   "cell_type": "code",
   "execution_count": 65,
   "metadata": {},
   "outputs": [
    {
     "name": "stdout",
     "output_type": "stream",
     "text": [
      "[1, 2, 4, 5, 7, 8, 10, 11, 13, 14, 16, 17, 19, 20, 22, 23, 25, 26, 28, 29]\n"
     ]
    }
   ],
   "source": [
    "list_nodiv3 = [x for x in range(30) if x%3 != 0]\n",
    "print(list_nodiv3)"
   ]
  },
  {
   "cell_type": "code",
   "execution_count": 71,
   "metadata": {},
   "outputs": [
    {
     "name": "stdout",
     "output_type": "stream",
     "text": [
      "['h', 'e', 'l', 'l', 'o']\n",
      "<enumerate object at 0x0000019F987AAAB0>\n",
      "[(0, 'h'), (1, 'e'), (2, 'l'), (3, 'l'), (4, 'o')]\n"
     ]
    }
   ],
   "source": [
    "mlist = ['h', 'e', 'l', 'l', 'o']\n",
    "print(mlist)\n",
    "print(enumerate(mlist))\n",
    "print(list(enumerate(mlist)))"
   ]
  },
  {
   "cell_type": "code",
   "execution_count": 72,
   "metadata": {},
   "outputs": [
    {
     "name": "stdout",
     "output_type": "stream",
     "text": [
      "[3, 1, 2, 3, 3, 4, 5, 6, 3, 7, 8, 9, 3]\n",
      "[0, 3, 4, 8, 12]\n"
     ]
    }
   ],
   "source": [
    "list_numbers = [3, 1, 2, 3, 3, 4, 5, 6, 3, 7, 8, 9, 3]\n",
    "list_indices = [i for i,n in enumerate(list_numbers) if n == 3] # list of indices where element is equal to 3\n",
    "print(list_numbers)\n",
    "print(list_indices)"
   ]
  },
  {
   "cell_type": "code",
   "execution_count": 75,
   "metadata": {},
   "outputs": [
    {
     "name": "stdout",
     "output_type": "stream",
     "text": [
      "[3, 2, 3, 5, 3, 8, 3]\n"
     ]
    }
   ],
   "source": [
    "alt_numbers = [n for i,n in enumerate(list_numbers) if i%2 != 1]\n",
    "print(alt_numbers)"
   ]
  },
  {
   "cell_type": "code",
   "execution_count": 76,
   "metadata": {},
   "outputs": [
    {
     "name": "stdout",
     "output_type": "stream",
     "text": [
      "[2, -3, 4, -5, 6, -7, 8, -9, 10, -11, 12, -13, 14, -15, 16, -17, 18, -19]\n"
     ]
    }
   ],
   "source": [
    "newlist = [val if val%2 == 0 else -val for val in range(2, 20)]\n",
    "print(newlist)"
   ]
  },
  {
   "cell_type": "code",
   "execution_count": 81,
   "metadata": {},
   "outputs": [
    {
     "name": "stdout",
     "output_type": "stream",
     "text": [
      "[2, 4, -5, -7, 8, 10, -11, -13, 14, 16, -17, -19]\n",
      "[2, 4, -5, -7, 8, 10, -11, -13, 14, 16, -17, -19]\n"
     ]
    }
   ],
   "source": [
    "newlist = [val if val%2 == 0 else -val for val in range(2, 20) if val%3 != 0]\n",
    "print(newlist)\n",
    "\n",
    "newlist = []\n",
    "for val in range(2, 20):\n",
    "    if val%3 != 0:\n",
    "        if val%2 == 0:\n",
    "            newlist.append(val)\n",
    "        else:\n",
    "            newlist.append(-val)\n",
    "            \n",
    "print(newlist)"
   ]
  },
  {
   "cell_type": "code",
   "execution_count": 100,
   "metadata": {},
   "outputs": [
    {
     "name": "stdout",
     "output_type": "stream",
     "text": [
      "Enter string: hello world and practice makes perfect and hello world again\n",
      "again and hello makes perfect practice world\n"
     ]
    }
   ],
   "source": [
    "def sortedWordSet(s):\n",
    "    words = s.split()\n",
    "    words_set = list(set(words))\n",
    "    words_set.sort()\n",
    "    all_words = \" \".join(words_set)\n",
    "    return all_words\n",
    "\n",
    "s = input(\"Enter string: \")\n",
    "print(sortedWordSet(s))"
   ]
  },
  {
   "cell_type": "code",
   "execution_count": 120,
   "metadata": {},
   "outputs": [
    {
     "name": "stdout",
     "output_type": "stream",
     "text": [
      "perfect : 1\n",
      "hello : 2\n",
      "again : 1\n",
      "makes : 1\n",
      "practice : 1\n",
      "world : 2\n",
      "and : 2\n"
     ]
    }
   ],
   "source": [
    "def printWordFrequency(s):\n",
    "    words = s.split()\n",
    "    words_set = set(words)\n",
    "    for word in words_set:\n",
    "        print(word, \":\", words.count(word))\n",
    "\n",
    "printWordFrequency(\"hello world and practice makes perfect and hello world again\")"
   ]
  },
  {
   "cell_type": "code",
   "execution_count": 123,
   "metadata": {},
   "outputs": [
    {
     "name": "stdout",
     "output_type": "stream",
     "text": [
      "{'hello': 2, 'world': 2, 'and': 2, 'practice': 1, 'makes': 1, 'perfect': 1, 'again': 1}\n"
     ]
    }
   ],
   "source": [
    "# Print Word Frequency using a Dictionary\n",
    "def printWordFrequencyDict(s):\n",
    "    words = s.split()\n",
    "    freq = dict.fromkeys(words, 0)\n",
    "    for word in words:\n",
    "        freq[word] = freq[word] + 1\n",
    "    print(freq)\n",
    "\n",
    "printWordFrequencyDict(\"hello world and practice makes perfect and hello world again\")"
   ]
  },
  {
   "cell_type": "markdown",
   "metadata": {},
   "source": [
    "### Shopping List <a id='shoppinglist' ></a>\n",
    "1. keep asking for new items until \"endshopping\" is entered\n",
    "2. then display the full shopping list"
   ]
  },
  {
   "cell_type": "code",
   "execution_count": 128,
   "metadata": {},
   "outputs": [
    {
     "name": "stdout",
     "output_type": "stream",
     "text": [
      "Enter new item: kjsadf\n",
      "Enter new item: sakjfbsa\n",
      "Enter new item: saljfblsa\n",
      "Enter new item: sabflsanf\n",
      "Enter new item: endshopping\n",
      "['kjsadf', 'sakjfbsa', 'saljfblsa', 'sabflsanf']\n"
     ]
    }
   ],
   "source": [
    "def shopping():\n",
    "    shopping_list = []\n",
    "    while True:\n",
    "        item = input(\"Enter new item: \")\n",
    "        if item == 'endshopping':\n",
    "            break\n",
    "        shopping_list.append(item)\n",
    "    print(shopping_list)\n",
    "    \n",
    "shopping()"
   ]
  }
 ],
 "metadata": {
  "kernelspec": {
   "display_name": "Python 3",
   "language": "python",
   "name": "python3"
  },
  "language_info": {
   "codemirror_mode": {
    "name": "ipython",
    "version": 3
   },
   "file_extension": ".py",
   "mimetype": "text/x-python",
   "name": "python",
   "nbconvert_exporter": "python",
   "pygments_lexer": "ipython3",
   "version": "3.7.3"
  },
  "toc": {
   "base_numbering": 1,
   "nav_menu": {},
   "number_sections": false,
   "sideBar": true,
   "skip_h1_title": true,
   "title_cell": "Table of Contents",
   "title_sidebar": "Contents",
   "toc_cell": false,
   "toc_position": {},
   "toc_section_display": true,
   "toc_window_display": false
  }
 },
 "nbformat": 4,
 "nbformat_minor": 2
}
