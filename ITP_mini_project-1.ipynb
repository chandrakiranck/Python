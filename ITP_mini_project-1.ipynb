{
 "cells": [
  {
   "cell_type": "markdown",
   "metadata": {},
   "source": [
    "# <center>PGP Data Science Engineering</center>\n",
    "## <center>Introduction to Programming – Mini Project:</center>\n"
   ]
  },
  {
   "cell_type": "markdown",
   "metadata": {},
   "source": [
    "### Problem 1:\n",
    "\n",
    "1. Write a program to calculate area of shapes. Your program should be capable of calculating the area of a square, rectangle, triangle and a circle. The user should be presented with options to select the shape. Based on which shape is chosed by the user, the program should ask for the appropriate input and print the resulting area on the screen.\n",
    "\n",
    "When the program is run, the screen should display something like this:\n",
    "\n",
    "**Which shape would you like to calculate the area for? Please enter the option number-**<br>\n",
    "**1. Square**<br>\n",
    "**2. Rectangle**<br>\n",
    "**3. Triangle**<br>\n",
    "**4. Circle**<br>\n",
    "**Enter Option: _**\n",
    "\n",
    "Say the user enters the option 1.\n",
    "\n",
    "**Please enter the length of a side: _**\n",
    "\n",
    "If the user enters a value of 5. The output should be:\n",
    "\n",
    "**The area of the square is 25**\n",
    "\n",
    "This program should indicate that the input is invalid if the user enters a character instead of a number as input. For instance if the user enters a value of ‘a’ instead of 5 in the previous example the program should prompt:\n",
    "\n",
    "**Invalid input, please enter a number: _**\n"
   ]
  },
  {
   "cell_type": "code",
   "execution_count": 33,
   "metadata": {
    "scrolled": true
   },
   "outputs": [
    {
     "name": "stdout",
     "output_type": "stream",
     "text": [
      "Which shape would you like to calculate the area for? Please enter the option number-\n",
      "1. Square\n",
      "2. Rectangle\n",
      "3. Traingle\n",
      "4. Circle\n",
      "Enter Option: 2\n",
      "\n",
      "Please enter the length of the rectangle: er\n",
      "Invalid input, please enter a number: er\n",
      "Invalid input, please enter a number: 4r5\n",
      "Invalid input, please enter a number: 45\n",
      "\n",
      "Please enter the breadth of the rectangle: 34\n",
      "\n",
      "The area of the rectangle is 1530\n"
     ]
    }
   ],
   "source": [
    "def inputNumber(prompt):\n",
    "    s = input(prompt)\n",
    "    \n",
    "    while not s.isnumeric():\n",
    "        s = input(\"Invalid input, please enter a number: \")\n",
    "        \n",
    "    print()\n",
    "    return int(s)\n",
    "    \n",
    "    \n",
    "def calculateAreaOfShape():\n",
    "    print(\"Which shape would you like to calculate the area for? Please enter the option number-\")\n",
    "    print(\"1. Square\")\n",
    "    print(\"2. Rectangle\")\n",
    "    print(\"3. Traingle\")\n",
    "    print(\"4. Circle\")\n",
    "    \n",
    "    opt = int(input(\"Enter Option: \"))\n",
    "    \n",
    "    print()\n",
    "    if opt == 1:\n",
    "        length = inputNumber(\"Please enter the length of the square: \")\n",
    "        area = length * length\n",
    "        print(\"The area of the square is\", area)\n",
    "        \n",
    "    elif opt == 2:\n",
    "        length = inputNumber(\"Please enter the length of the rectangle: \")\n",
    "        breadth = inputNumber(\"Please enter the breadth of the rectangle: \")\n",
    "        area = length * breadth\n",
    "        print(\"The area of the rectangle is\", area)\n",
    "        \n",
    "    elif opt == 3:\n",
    "        base = inputNumber(\"Please enter the base of the triangle: \")\n",
    "        height = inputNumber(\"Please enter the height of the triangle: \")\n",
    "        area = 0.5 * base * height\n",
    "        print(\"The area of the triangle is\", area)\n",
    "        \n",
    "    elif opt == 4:\n",
    "        radius = inputNumber(\"Please enter the radius of the circle: \")\n",
    "        area = 3.14 * radius * radius\n",
    "        print(\"The area of the circle is\", area)\n",
    "        \n",
    "    else:\n",
    "        print(\"Invalid Option\")\n",
    "    \n",
    "calculateAreaOfShape()"
   ]
  },
  {
   "cell_type": "markdown",
   "metadata": {},
   "source": [
    "### Problem 2:\n",
    "\n",
    "Create and encrypter in python based on the ceaser cipher. It is a substitution cipher where each character of the original text is shifted a certain number characters in the alphabet. Write a function that would require 2 arguments – the input text to be encrypted and a key. For eg: Given the input text ‘hello’ and the key 3, the resulting encryted text would be ‘khoor’. Here you can see that every character in the string hello is shifted by 3 characters. ‘h’ has shifted to ‘k’, ‘e’ has shifted to ‘h’ and so on. If a key of 5 were used, the resulting string would be ‘mjqqt’. This function should be capable of ignoring any characters which are not alphabets. Th2 character ‘z’ entered b\n",
    "y the user for a key of 3 would result in ‘c’.\n",
    "\n",
    "Usage:<br>\n",
    "**encrypt(‘hello world!’, 3)**<br>\n",
    "**‘khoor zruog!’**\n",
    "\n",
    "Similarly create decrypter which can decode the encryted text when provided the input text and key\n",
    "\n",
    "Usage:<br>\n",
    "**decrypt(‘khoor zruog!’, 3)**<br>\n",
    "**‘hello world!’**\n",
    "\n",
    "For the sake of simplicity you can assume that input solely consists of lowercase alphabets, spaces and punctuation symbols. Numbers in the input text would also be ignored similar to symbols."
   ]
  },
  {
   "cell_type": "code",
   "execution_count": 1,
   "metadata": {},
   "outputs": [
    {
     "name": "stdout",
     "output_type": "stream",
     "text": [
      "khoor zruog!\n",
      "hello world!\n"
     ]
    }
   ],
   "source": [
    "alphabet = list('abcdefghijklmnopqrstuvwxyz')\n",
    "\n",
    "def encrypt(text, key):\n",
    "    encrypted_text = ''\n",
    "    \n",
    "    for char in text:\n",
    "        if char.isalpha():\n",
    "            # shift each char right by key and wrap around the length of the alphabet\n",
    "            encrypted_char_index = (alphabet.index(char) + key) % len(alphabet)\n",
    "            encrypted_char = alphabet[encrypted_char_index]\n",
    "            encrypted_text = encrypted_text + encrypted_char\n",
    "        else:\n",
    "            encrypted_text = encrypted_text + char\n",
    "            \n",
    "    return encrypted_text\n",
    "\n",
    "def decrypt(text, key):\n",
    "    decrypted_text = ''\n",
    "    \n",
    "    for char in text:\n",
    "        if char.isalpha():\n",
    "            # shift each char left by key and wrap around the length of the alphabet\n",
    "            decrypted_char_index = (alphabet.index(char) - key) % len(alphabet)\n",
    "            decrypted_char = alphabet[decrypted_char_index]\n",
    "            decrypted_text = decrypted_text + decrypted_char\n",
    "        else:\n",
    "            decrypted_text = decrypted_text + char\n",
    "            \n",
    "    return decrypted_text\n",
    "\n",
    "print(encrypt('hello world!', 3))\n",
    "print(decrypt('khoor zruog!', 3))"
   ]
  }
 ],
 "metadata": {
  "kernelspec": {
   "display_name": "Python 3",
   "language": "python",
   "name": "python3"
  },
  "language_info": {
   "codemirror_mode": {
    "name": "ipython",
    "version": 3
   },
   "file_extension": ".py",
   "mimetype": "text/x-python",
   "name": "python",
   "nbconvert_exporter": "python",
   "pygments_lexer": "ipython3",
   "version": "3.7.4"
  }
 },
 "nbformat": 4,
 "nbformat_minor": 2
}
