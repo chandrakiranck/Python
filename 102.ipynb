{
 "cells": [
  {
   "cell_type": "markdown",
   "metadata": {},
   "source": [
    "# 06/25\n",
    "# Intro to Programming"
   ]
  },
  {
   "cell_type": "markdown",
   "metadata": {},
   "source": [
    "### Strings <a id='strings' ></a>"
   ]
  },
  {
   "cell_type": "code",
   "execution_count": 1,
   "metadata": {},
   "outputs": [],
   "source": [
    "# Accesing Values in Strings\n",
    "\n",
    "mystr = \"AccesingValuesInStrings\""
   ]
  },
  {
   "cell_type": "code",
   "execution_count": 2,
   "metadata": {},
   "outputs": [
    {
     "name": "stdout",
     "output_type": "stream",
     "text": [
      "mystr = AccesingValuesInStrings\n",
      "mystr[6] = n\n",
      "mystr[-2] = g\n",
      "mystr[-17] = n\n"
     ]
    }
   ],
   "source": [
    "print(\"mystr =\", mystr)\n",
    "print(\"mystr[6] =\", mystr[6])\n",
    "print(\"mystr[-2] =\", mystr[-2])\n",
    "print(\"mystr[-17] =\", mystr[-17])"
   ]
  },
  {
   "cell_type": "code",
   "execution_count": 3,
   "metadata": {},
   "outputs": [
    {
     "ename": "IndexError",
     "evalue": "string index out of range",
     "output_type": "error",
     "traceback": [
      "\u001b[1;31m---------------------------------------------------------------------------\u001b[0m",
      "\u001b[1;31mIndexError\u001b[0m                                Traceback (most recent call last)",
      "\u001b[1;32m<ipython-input-3-6880361a8a35>\u001b[0m in \u001b[0;36m<module>\u001b[1;34m\u001b[0m\n\u001b[1;32m----> 1\u001b[1;33m \u001b[0mprint\u001b[0m\u001b[1;33m(\u001b[0m\u001b[1;34m\"mystr[34] =\"\u001b[0m\u001b[1;33m,\u001b[0m \u001b[0mmystr\u001b[0m\u001b[1;33m[\u001b[0m\u001b[1;36m34\u001b[0m\u001b[1;33m]\u001b[0m\u001b[1;33m)\u001b[0m\u001b[1;33m\u001b[0m\u001b[1;33m\u001b[0m\u001b[0m\n\u001b[0m",
      "\u001b[1;31mIndexError\u001b[0m: string index out of range"
     ]
    }
   ],
   "source": [
    "print(\"mystr[34] =\", mystr[34])"
   ]
  },
  {
   "cell_type": "code",
   "execution_count": 4,
   "metadata": {},
   "outputs": [
    {
     "name": "stdout",
     "output_type": "stream",
     "text": [
      "mystr[4:15] = singValuesI\n",
      "mystr[-20:-10] = esingValue\n",
      "mystr[7:-3] = gValuesInStri\n",
      "mystr[-10:20] = sInStri\n"
     ]
    }
   ],
   "source": [
    "print(\"mystr[4:15] =\", mystr[4:15])\n",
    "print(\"mystr[-20:-10] =\", mystr[-20:-10])\n",
    "print(\"mystr[7:-3] =\", mystr[7:-3])\n",
    "print(\"mystr[-10:20] =\", mystr[-10:20])"
   ]
  },
  {
   "cell_type": "code",
   "execution_count": 5,
   "metadata": {},
   "outputs": [
    {
     "name": "stdout",
     "output_type": "stream",
     "text": [
      "mystr[6:] = ngValuesInStrings\n",
      "mystr[:12] = AccesingValu\n",
      "mystr[:] = AccesingValuesInStrings\n"
     ]
    }
   ],
   "source": [
    "print(\"mystr[6:] =\", mystr[6:])\n",
    "print(\"mystr[:12] =\", mystr[:12])\n",
    "print(\"mystr[:] =\", mystr[:])"
   ]
  },
  {
   "cell_type": "code",
   "execution_count": 6,
   "metadata": {},
   "outputs": [
    {
     "name": "stdout",
     "output_type": "stream",
     "text": [
      "mystr[6:30] = ngValuesInStrings\n",
      "mystr[6:23] = ngValuesInStrings\n",
      "mystr[15:4] = \n"
     ]
    }
   ],
   "source": [
    "print(\"mystr[6:30] =\", mystr[6:30])\n",
    "print(\"mystr[6:23] =\", mystr[6:23])\n",
    "print(\"mystr[15:4] =\", mystr[15:4])"
   ]
  },
  {
   "cell_type": "code",
   "execution_count": 7,
   "metadata": {},
   "outputs": [
    {
     "name": "stdout",
     "output_type": "stream",
     "text": [
      "mystr[2:19:2] = csnVleISr\n",
      "mystr[2:20:2] = csnVleISr\n",
      "mystr[::-1] = sgnirtSnIseulaVgniseccA\n",
      "mystr[-3:-20:-4] = nSeVs\n",
      "mystr[-22:-4:-2] = \n"
     ]
    }
   ],
   "source": [
    "print(\"mystr[2:19:2] =\", mystr[2:19:2])\n",
    "print(\"mystr[2:20:2] =\", mystr[2:20:2])\n",
    "print(\"mystr[::-1] =\", mystr[::-1])\n",
    "print(\"mystr[-3:-20:-4] =\", mystr[-3:-20:-4])\n",
    "print(\"mystr[-22:-4:-2] =\", mystr[-22:-4:-2])"
   ]
  },
  {
   "cell_type": "code",
   "execution_count": 8,
   "metadata": {},
   "outputs": [
    {
     "name": "stdout",
     "output_type": "stream",
     "text": [
      "Length = 23\n"
     ]
    }
   ],
   "source": [
    "# String Length\n",
    "print(\"Length =\", len(mystr))"
   ]
  },
  {
   "cell_type": "code",
   "execution_count": 9,
   "metadata": {},
   "outputs": [
    {
     "ename": "TypeError",
     "evalue": "'str' object does not support item assignment",
     "output_type": "error",
     "traceback": [
      "\u001b[1;31m---------------------------------------------------------------------------\u001b[0m",
      "\u001b[1;31mTypeError\u001b[0m                                 Traceback (most recent call last)",
      "\u001b[1;32m<ipython-input-9-6d1191600de9>\u001b[0m in \u001b[0;36m<module>\u001b[1;34m\u001b[0m\n\u001b[0;32m      1\u001b[0m \u001b[1;31m# Strings are immutable\u001b[0m\u001b[1;33m\u001b[0m\u001b[1;33m\u001b[0m\u001b[1;33m\u001b[0m\u001b[0m\n\u001b[0;32m      2\u001b[0m \u001b[0mword\u001b[0m \u001b[1;33m=\u001b[0m \u001b[1;34m\"jar\"\u001b[0m\u001b[1;33m\u001b[0m\u001b[1;33m\u001b[0m\u001b[0m\n\u001b[1;32m----> 3\u001b[1;33m \u001b[0mword\u001b[0m\u001b[1;33m[\u001b[0m\u001b[1;36m0\u001b[0m\u001b[1;33m]\u001b[0m \u001b[1;33m=\u001b[0m \u001b[1;34m\"b\"\u001b[0m\u001b[1;33m\u001b[0m\u001b[1;33m\u001b[0m\u001b[0m\n\u001b[0m\u001b[0;32m      4\u001b[0m \u001b[0mprint\u001b[0m\u001b[1;33m(\u001b[0m\u001b[0mword\u001b[0m\u001b[1;33m)\u001b[0m\u001b[1;33m\u001b[0m\u001b[1;33m\u001b[0m\u001b[0m\n",
      "\u001b[1;31mTypeError\u001b[0m: 'str' object does not support item assignment"
     ]
    }
   ],
   "source": [
    "# Strings are immutable\n",
    "word = \"jar\"\n",
    "word[0] = \"b\"\n",
    "print(word)"
   ]
  },
  {
   "cell_type": "code",
   "execution_count": 10,
   "metadata": {},
   "outputs": [
    {
     "name": "stdout",
     "output_type": "stream",
     "text": [
      "bar\n"
     ]
    }
   ],
   "source": [
    "word = \"b\" + word[1:]\n",
    "print(word)"
   ]
  },
  {
   "cell_type": "code",
   "execution_count": 11,
   "metadata": {},
   "outputs": [],
   "source": [
    "# Concatenation using + operator"
   ]
  },
  {
   "cell_type": "code",
   "execution_count": 12,
   "metadata": {},
   "outputs": [
    {
     "name": "stdout",
     "output_type": "stream",
     "text": [
      "barbarbar\n"
     ]
    }
   ],
   "source": [
    "# Repitition using * operator\n",
    "\n",
    "word3 = word * 3\n",
    "print(word3)"
   ]
  },
  {
   "cell_type": "code",
   "execution_count": 13,
   "metadata": {},
   "outputs": [
    {
     "name": "stdout",
     "output_type": "stream",
     "text": [
      "False\n",
      "True\n",
      "True\n",
      "False\n"
     ]
    }
   ],
   "source": [
    "# String Memebership using 'in' operator\n",
    "\n",
    "print('a' in \"Python\")\n",
    "print('a' in \"Program\")\n",
    "print('a' not in \"Python\")\n",
    "print('a' not in \"Program\")"
   ]
  },
  {
   "cell_type": "code",
   "execution_count": 14,
   "metadata": {
    "scrolled": true
   },
   "outputs": [
    {
     "data": {
      "text/plain": [
       "['__add__',\n",
       " '__class__',\n",
       " '__contains__',\n",
       " '__delattr__',\n",
       " '__dir__',\n",
       " '__doc__',\n",
       " '__eq__',\n",
       " '__format__',\n",
       " '__ge__',\n",
       " '__getattribute__',\n",
       " '__getitem__',\n",
       " '__getnewargs__',\n",
       " '__gt__',\n",
       " '__hash__',\n",
       " '__init__',\n",
       " '__init_subclass__',\n",
       " '__iter__',\n",
       " '__le__',\n",
       " '__len__',\n",
       " '__lt__',\n",
       " '__mod__',\n",
       " '__mul__',\n",
       " '__ne__',\n",
       " '__new__',\n",
       " '__reduce__',\n",
       " '__reduce_ex__',\n",
       " '__repr__',\n",
       " '__rmod__',\n",
       " '__rmul__',\n",
       " '__setattr__',\n",
       " '__sizeof__',\n",
       " '__str__',\n",
       " '__subclasshook__',\n",
       " 'capitalize',\n",
       " 'casefold',\n",
       " 'center',\n",
       " 'count',\n",
       " 'encode',\n",
       " 'endswith',\n",
       " 'expandtabs',\n",
       " 'find',\n",
       " 'format',\n",
       " 'format_map',\n",
       " 'index',\n",
       " 'isalnum',\n",
       " 'isalpha',\n",
       " 'isascii',\n",
       " 'isdecimal',\n",
       " 'isdigit',\n",
       " 'isidentifier',\n",
       " 'islower',\n",
       " 'isnumeric',\n",
       " 'isprintable',\n",
       " 'isspace',\n",
       " 'istitle',\n",
       " 'isupper',\n",
       " 'join',\n",
       " 'ljust',\n",
       " 'lower',\n",
       " 'lstrip',\n",
       " 'maketrans',\n",
       " 'partition',\n",
       " 'replace',\n",
       " 'rfind',\n",
       " 'rindex',\n",
       " 'rjust',\n",
       " 'rpartition',\n",
       " 'rsplit',\n",
       " 'rstrip',\n",
       " 'split',\n",
       " 'splitlines',\n",
       " 'startswith',\n",
       " 'strip',\n",
       " 'swapcase',\n",
       " 'title',\n",
       " 'translate',\n",
       " 'upper',\n",
       " 'zfill']"
      ]
     },
     "execution_count": 14,
     "metadata": {},
     "output_type": "execute_result"
    }
   ],
   "source": [
    "# All functions available for a variable/value\n",
    "dir(str)"
   ]
  },
  {
   "cell_type": "code",
   "execution_count": 15,
   "metadata": {},
   "outputs": [
    {
     "name": "stdout",
     "output_type": "stream",
     "text": [
      "Help on method_descriptor:\n",
      "\n",
      "find(...)\n",
      "    S.find(sub[, start[, end]]) -> int\n",
      "    \n",
      "    Return the lowest index in S where substring sub is found,\n",
      "    such that sub is contained within S[start:end].  Optional\n",
      "    arguments start and end are interpreted as in slice notation.\n",
      "    \n",
      "    Return -1 on failure.\n",
      "\n"
     ]
    }
   ],
   "source": [
    "# Help on particular function\n",
    "\n",
    "help(str.find)"
   ]
  },
  {
   "cell_type": "code",
   "execution_count": 16,
   "metadata": {},
   "outputs": [
    {
     "name": "stdout",
     "output_type": "stream",
     "text": [
      "AccesingValuesInStrings\n",
      "5\n",
      "19\n",
      "-1\n",
      "-1\n"
     ]
    }
   ],
   "source": [
    "print(mystr)\n",
    "print(mystr.find(\"ing\"))\n",
    "print(mystr.find(\"ing\", 7))\n",
    "print(mystr.find(\"ing\", 7, 17))\n",
    "print(mystr.find(\"ING\"))"
   ]
  },
  {
   "cell_type": "code",
   "execution_count": 17,
   "metadata": {},
   "outputs": [
    {
     "name": "stdout",
     "output_type": "stream",
     "text": [
      "Help on method_descriptor:\n",
      "\n",
      "rfind(...)\n",
      "    S.rfind(sub[, start[, end]]) -> int\n",
      "    \n",
      "    Return the highest index in S where substring sub is found,\n",
      "    such that sub is contained within S[start:end].  Optional\n",
      "    arguments start and end are interpreted as in slice notation.\n",
      "    \n",
      "    Return -1 on failure.\n",
      "\n"
     ]
    }
   ],
   "source": [
    "help(str.rfind)"
   ]
  },
  {
   "cell_type": "code",
   "execution_count": 18,
   "metadata": {},
   "outputs": [
    {
     "name": "stdout",
     "output_type": "stream",
     "text": [
      "AccesingValuesInStrings\n",
      "19\n",
      "5\n",
      "-1\n"
     ]
    }
   ],
   "source": [
    "print(mystr)\n",
    "print(mystr.rfind(\"ing\"))\n",
    "print(mystr.find(\"ing\", 0, 17))\n",
    "print(mystr.find(\"ing\", 7, 17))"
   ]
  },
  {
   "cell_type": "code",
   "execution_count": 19,
   "metadata": {},
   "outputs": [
    {
     "name": "stdout",
     "output_type": "stream",
     "text": [
      "Help on method_descriptor:\n",
      "\n",
      "startswith(...)\n",
      "    S.startswith(prefix[, start[, end]]) -> bool\n",
      "    \n",
      "    Return True if S starts with the specified prefix, False otherwise.\n",
      "    With optional start, test S beginning at that position.\n",
      "    With optional end, stop comparing S at that position.\n",
      "    prefix can also be a tuple of strings to try.\n",
      "\n",
      "Help on method_descriptor:\n",
      "\n",
      "endswith(...)\n",
      "    S.endswith(suffix[, start[, end]]) -> bool\n",
      "    \n",
      "    Return True if S ends with the specified suffix, False otherwise.\n",
      "    With optional start, test S beginning at that position.\n",
      "    With optional end, stop comparing S at that position.\n",
      "    suffix can also be a tuple of strings to try.\n",
      "\n"
     ]
    }
   ],
   "source": [
    "help(str.startswith)\n",
    "help(str.endswith)"
   ]
  },
  {
   "cell_type": "code",
   "execution_count": 20,
   "metadata": {},
   "outputs": [
    {
     "name": "stdout",
     "output_type": "stream",
     "text": [
      "AccesingValuesInStrings\n",
      "True\n",
      "False\n",
      "False\n",
      "True\n",
      "False\n"
     ]
    }
   ],
   "source": [
    "print(mystr)\n",
    "print(mystr.startswith(\"Acc\"))\n",
    "print(mystr.startswith(\"Val\"))\n",
    "print(mystr.startswith(\"Acc\", 8))\n",
    "print(mystr.startswith(\"Val\", 8))\n",
    "print(mystr.startswith(\"Val\", 8, 10))"
   ]
  },
  {
   "cell_type": "code",
   "execution_count": 21,
   "metadata": {},
   "outputs": [
    {
     "name": "stdout",
     "output_type": "stream",
     "text": [
      "Help on method_descriptor:\n",
      "\n",
      "count(...)\n",
      "    S.count(sub[, start[, end]]) -> int\n",
      "    \n",
      "    Return the number of non-overlapping occurrences of substring sub in\n",
      "    string S[start:end].  Optional arguments start and end are\n",
      "    interpreted as in slice notation.\n",
      "\n"
     ]
    }
   ],
   "source": [
    "help(str.count)"
   ]
  },
  {
   "cell_type": "code",
   "execution_count": 22,
   "metadata": {},
   "outputs": [
    {
     "name": "stdout",
     "output_type": "stream",
     "text": [
      "AccesingValuesInStrings\n",
      "2\n",
      "1\n",
      "0\n"
     ]
    }
   ],
   "source": [
    "print(mystr)\n",
    "print(mystr.count(\"in\"))\n",
    "print(mystr.count(\"in\", 6))\n",
    "print(mystr.count(\"in\", 6, -3))"
   ]
  },
  {
   "cell_type": "code",
   "execution_count": 23,
   "metadata": {},
   "outputs": [
    {
     "name": "stdout",
     "output_type": "stream",
     "text": [
      "ACCESING VALUES IN STRINGS\n",
      "accesing values in strings\n",
      "Accesing values in strings\n",
      "Accesing Values In Strings\n",
      "aCCESING VALUES IN sTRINGS\n"
     ]
    }
   ],
   "source": [
    "mystr = \"Accesing values in Strings\"\n",
    "print(mystr.upper())\n",
    "print(mystr.lower())\n",
    "print(mystr.capitalize())\n",
    "print(mystr.title())\n",
    "print(mystr.swapcase())"
   ]
  },
  {
   "cell_type": "code",
   "execution_count": 24,
   "metadata": {},
   "outputs": [
    {
     "name": "stdout",
     "output_type": "stream",
     "text": [
      "Help on method_descriptor:\n",
      "\n",
      "replace(self, old, new, count=-1, /)\n",
      "    Return a copy with all occurrences of substring old replaced by new.\n",
      "    \n",
      "      count\n",
      "        Maximum number of occurrences to replace.\n",
      "        -1 (the default value) means replace all occurrences.\n",
      "    \n",
      "    If the optional argument count is given, only the first count occurrences are\n",
      "    replaced.\n",
      "\n"
     ]
    }
   ],
   "source": [
    "help(str.replace)"
   ]
  },
  {
   "cell_type": "code",
   "execution_count": 25,
   "metadata": {},
   "outputs": [
    {
     "name": "stdout",
     "output_type": "stream",
     "text": [
      "Accesing values in Strings\n",
      "Acceuing valueu in Stringu\n",
      "Acceuing valueu in Utringu\n"
     ]
    }
   ],
   "source": [
    "print(mystr)\n",
    "print(mystr.replace('s', 'u'))\n",
    "print(mystr.replace('s', 'u').replace('S','U'))"
   ]
  },
  {
   "cell_type": "code",
   "execution_count": 26,
   "metadata": {},
   "outputs": [
    {
     "name": "stdout",
     "output_type": "stream",
     "text": [
      "    <<allksn <<sasd > askf >>  \n",
      "31\n",
      "\n",
      "<<allksn <<sasd > askf >>\n",
      "25\n",
      "\n",
      "allksn <<sasd > askf >>\n",
      "\n",
      "<<allksn <<sasd > askf >>  \n",
      "    <<allksn <<sasd > askf >>\n"
     ]
    }
   ],
   "source": [
    "mystr2 = \"    <<allksn <<sasd > askf >>  \"\n",
    "print(mystr2)\n",
    "print(len(mystr2))\n",
    "print()\n",
    "print(mystr2.strip())\n",
    "print(len(mystr2.strip()))\n",
    "print()\n",
    "print(mystr2.strip().strip(\"<<\"))\n",
    "print()\n",
    "print(mystr2.lstrip())\n",
    "print(mystr2.rstrip())"
   ]
  },
  {
   "cell_type": "code",
   "execution_count": 27,
   "metadata": {},
   "outputs": [
    {
     "name": "stdout",
     "output_type": "stream",
     "text": [
      "Help on method_descriptor:\n",
      "\n",
      "split(self, /, sep=None, maxsplit=-1)\n",
      "    Return a list of the words in the string, using sep as the delimiter string.\n",
      "    \n",
      "    sep\n",
      "      The delimiter according which to split the string.\n",
      "      None (the default value) means split according to any whitespace,\n",
      "      and discard empty strings from the result.\n",
      "    maxsplit\n",
      "      Maximum number of splits to do.\n",
      "      -1 (the default value) means no limit.\n",
      "\n"
     ]
    }
   ],
   "source": [
    "help(str.split)"
   ]
  },
  {
   "cell_type": "code",
   "execution_count": 28,
   "metadata": {},
   "outputs": [
    {
     "name": "stdout",
     "output_type": "stream",
     "text": [
      "['ssb,asdhv,d', 'agsvv,asv#dsahj,sdh']\n",
      "2\n"
     ]
    }
   ],
   "source": [
    "mystr3 = \"ssb,asdhv,d agsvv,asv#dsahj,sdh\"\n",
    "mywords = mystr3.split()\n",
    "print(mywords)\n",
    "print(len(mywords))"
   ]
  },
  {
   "cell_type": "code",
   "execution_count": 29,
   "metadata": {},
   "outputs": [
    {
     "name": "stdout",
     "output_type": "stream",
     "text": [
      "['ssb', 'asdhv', 'd agsvv', 'asv#dsahj', 'sdh']\n",
      "5\n"
     ]
    }
   ],
   "source": [
    "mywords = mystr3.split(\",\")\n",
    "print(mywords)\n",
    "print(len(mywords))"
   ]
  },
  {
   "cell_type": "code",
   "execution_count": 30,
   "metadata": {},
   "outputs": [
    {
     "name": "stdout",
     "output_type": "stream",
     "text": [
      "ssb:asdhv:d agsvv:asv#dsahj:sdh\n"
     ]
    }
   ],
   "source": [
    "newword = ':'.join(mywords)\n",
    "print(newword)"
   ]
  },
  {
   "cell_type": "code",
   "execution_count": 31,
   "metadata": {},
   "outputs": [
    {
     "name": "stdout",
     "output_type": "stream",
     "text": [
      "Help on method_descriptor:\n",
      "\n",
      "join(self, iterable, /)\n",
      "    Concatenate any number of strings.\n",
      "    \n",
      "    The string whose method is called is inserted in between each given string.\n",
      "    The result is returned as a new string.\n",
      "    \n",
      "    Example: '.'.join(['ab', 'pq', 'rs']) -> 'ab.pq.rs'\n",
      "\n"
     ]
    }
   ],
   "source": [
    "help(str.join)"
   ]
  },
  {
   "cell_type": "code",
   "execution_count": 32,
   "metadata": {},
   "outputs": [
    {
     "name": "stdout",
     "output_type": "stream",
     "text": [
      "Enter date in DD/MM/YYYY format: 25/06/2019\n",
      "Date in MM/DD/YYYY format: 06/25/2019\n",
      "Date in YYYY/MM/DD format: 2019/06/25\n"
     ]
    }
   ],
   "source": [
    "def dmy_to_mdy(dmy):\n",
    "    return dmy[3:5] + \"/\" + dmy[:2] + \"/\" + dmy[6:]\n",
    "\n",
    "def dmy_to_ymd(dmy):\n",
    "    return dmy[6:] + \"/\" + dmy[3:5] + \"/\" + dmy[:2]\n",
    "\n",
    "dmy = input(\"Enter date in DD/MM/YYYY format: \")\n",
    "print(\"Date in MM/DD/YYYY format:\", dmy_to_mdy(dmy))\n",
    "print(\"Date in YYYY/MM/DD format:\", dmy_to_ymd(dmy))"
   ]
  },
  {
   "cell_type": "code",
   "execution_count": 33,
   "metadata": {},
   "outputs": [
    {
     "name": "stdout",
     "output_type": "stream",
     "text": [
      "Enter a string: string\n",
      "stringgnirts\n"
     ]
    }
   ],
   "source": [
    "def fnStringMirror(s):\n",
    "    return s + s[::-1]\n",
    "\n",
    "ms = input(\"Enter a string: \")\n",
    "print(fnStringMirror(ms))"
   ]
  },
  {
   "cell_type": "markdown",
   "metadata": {},
   "source": [
    "### Lists <a id='lists' ></a>\n",
    "* [ ]\n",
    "* List are ordered set of values\n",
    "* Each value is identified by an index\n",
    "* Lists are mutable\n",
    "* +, * operators concatenate and repeat a list (just like for strings)"
   ]
  },
  {
   "cell_type": "code",
   "execution_count": 40,
   "metadata": {},
   "outputs": [
    {
     "name": "stdout",
     "output_type": "stream",
     "text": [
      "[3, 6, 4, 9, 4, 6, 0, 3, 7, 8, 10]\n",
      "Modifying value at index 2\n",
      "[3, 6, 45, 9, 4, 6, 0, 3, 7, 8, 10]\n",
      "Deleting value at index 3\n",
      "[3, 6, 45, 4, 6, 0, 3, 7, 8, 10]\n",
      "Deleting values at indices 1 to 4\n",
      "[3, 6, 0, 3, 7, 8, 10]\n"
     ]
    }
   ],
   "source": [
    "mylist = [3, 6, 4, 9, 4, 6, 0, 3 , 7, 8, 10]\n",
    "print(mylist)\n",
    "\n",
    "print(\"Modifying value at index 2\")\n",
    "mylist[2] = 45\n",
    "print(mylist)\n",
    "\n",
    "print(\"Deleting value at index 3\")\n",
    "del(mylist[3])\n",
    "print(mylist)\n",
    "\n",
    "print(\"Deleting values at indices 1 to 4\")\n",
    "del(mylist[1:4])\n",
    "print(mylist)"
   ]
  },
  {
   "cell_type": "code",
   "execution_count": 41,
   "metadata": {},
   "outputs": [
    {
     "name": "stdout",
     "output_type": "stream",
     "text": [
      "Appending to list\n",
      "[3, 6, 0, 3, 7, 8, 10, 123]\n"
     ]
    }
   ],
   "source": [
    "print(\"Appending to list\")\n",
    "mylist.append(123)\n",
    "print(mylist)"
   ]
  },
  {
   "cell_type": "code",
   "execution_count": 42,
   "metadata": {},
   "outputs": [
    {
     "name": "stdout",
     "output_type": "stream",
     "text": [
      "Inserting at index 3\n",
      "[3, 6, 0, [77, 88, 99], 3, 7, 8, 10, 123]\n"
     ]
    }
   ],
   "source": [
    "print(\"Inserting at index 3\")\n",
    "mylist.insert(3, [77, 88, 99])\n",
    "print(mylist)"
   ]
  },
  {
   "cell_type": "code",
   "execution_count": 43,
   "metadata": {},
   "outputs": [
    {
     "name": "stdout",
     "output_type": "stream",
     "text": [
      "Popping at index 5\n",
      "[3, 6, 0, [77, 88, 99], 3, 8, 10, 123]\n",
      "Popping\n",
      "[3, 6, 0, [77, 88, 99], 3, 8, 10]\n"
     ]
    }
   ],
   "source": [
    "print(\"Popping at index 5\")\n",
    "p = mylist.pop(5)\n",
    "print(mylist)\n",
    "\n",
    "print(\"Popping\")\n",
    "p = mylist.pop()\n",
    "print(mylist)"
   ]
  },
  {
   "cell_type": "code",
   "execution_count": 44,
   "metadata": {},
   "outputs": [
    {
     "name": "stdout",
     "output_type": "stream",
     "text": [
      "Extending list with 3 elements\n",
      "[3, 6, 0, [77, 88, 99], 3, 8, 10, 222, 4325, 231]\n"
     ]
    }
   ],
   "source": [
    "print(\"Extending list with 3 elements\")\n",
    "mylist.extend([222, 4325, 231])\n",
    "print(mylist)"
   ]
  },
  {
   "cell_type": "code",
   "execution_count": 45,
   "metadata": {},
   "outputs": [
    {
     "name": "stdout",
     "output_type": "stream",
     "text": [
      "Deleting at index 3\n",
      "[3, 6, 0, 3, 8, 10, 222, 4325, 231]\n",
      "Sorting\n",
      "[0, 3, 3, 6, 8, 10, 222, 231, 4325]\n",
      "Sorting in reverse order\n",
      "[4325, 231, 222, 10, 8, 6, 3, 3, 0]\n"
     ]
    }
   ],
   "source": [
    "print(\"Deleting at index 3\")\n",
    "del(mylist[3])\n",
    "print(mylist)\n",
    "\n",
    "print(\"Sorting\")\n",
    "mylist.sort()\n",
    "print(mylist)\n",
    "\n",
    "print(\"Sorting in reverse order\")\n",
    "mylist.sort(reverse=True)\n",
    "print(mylist)"
   ]
  },
  {
   "cell_type": "markdown",
   "metadata": {},
   "source": [
    "### Tuples <a id='tuples' ></a>\n",
    "* ( )\n",
    "* Similiar to Lists except it is immutable\n",
    "* use comma if only one element : (123,)"
   ]
  },
  {
   "cell_type": "code",
   "execution_count": 46,
   "metadata": {},
   "outputs": [
    {
     "name": "stdout",
     "output_type": "stream",
     "text": [
      "(1, 3, 5, 7, 9)\n",
      "[1, 3, 5, 7, 9]\n",
      "(1, 3, 5, 7, 9)\n"
     ]
    }
   ],
   "source": [
    "mt1 = (1, 3, 5, 7, 9)\n",
    "print(mt1)\n",
    "ml1 = list(mt1)\n",
    "print(ml1)\n",
    "mt2 = tuple(ml1)\n",
    "print(mt2)"
   ]
  },
  {
   "cell_type": "code",
   "execution_count": 47,
   "metadata": {},
   "outputs": [
    {
     "name": "stdout",
     "output_type": "stream",
     "text": [
      "5\n",
      "9\n",
      "1\n"
     ]
    }
   ],
   "source": [
    "print(len(mt1))\n",
    "print(max(mt1))\n",
    "print(min(mt1))"
   ]
  },
  {
   "cell_type": "markdown",
   "metadata": {},
   "source": [
    "### Dictionary <a id='dictionary' ></a>\n",
    "* { }\n",
    "* 1:1 relationship between key and values\n",
    "* keys are unique; if same keys the last one is used\n",
    "* Mutable"
   ]
  },
  {
   "cell_type": "code",
   "execution_count": 48,
   "metadata": {},
   "outputs": [
    {
     "name": "stdout",
     "output_type": "stream",
     "text": [
      "{'Name': 'James', 'Age': 25, 'Height': 6, 'Country': 'India'}\n",
      "dict_keys(['Name', 'Age', 'Height', 'Country'])\n",
      "dict_values(['James', 25, 6, 'India'])\n",
      "dict_items([('Name', 'James'), ('Age', 25), ('Height', 6), ('Country', 'India')])\n",
      "{1: 'A', 2: 'A', 3: 'A', 4: 'A'}\n",
      "Getting Name\n",
      "James\n",
      "Adding Key/Value pair\n",
      "{'Name': 'James', 'Age': 25, 'Height': 6, 'Country': 'India', 'School': 'KVS'}\n",
      "Modifying Height\n",
      "{'Name': 'James', 'Age': 25, 'Height': 5, 'Country': 'India', 'School': 'KVS'}\n",
      "Deleting Age\n",
      "{'Name': 'James', 'Height': 5, 'Country': 'India', 'School': 'KVS'}\n",
      "Clearing Dictionary\n",
      "{}\n"
     ]
    }
   ],
   "source": [
    "md1 = {\"Name\": \"James\", \"Age\":25, \"Height\": 6, \"Country\":\"India\"}\n",
    "print(md1)\n",
    "print(md1.keys())\n",
    "print(md1.values())\n",
    "print(md1.items())\n",
    "print(md1.fromkeys((1, 2, 3, 4), \"A\"))\n",
    "\n",
    "print(\"Getting Name\")\n",
    "print(md1.get(\"Name\"))\n",
    "\n",
    "print(\"Adding Key/Value pair\")\n",
    "md1[\"School\"] = \"KVS\"\n",
    "print(md1)\n",
    "\n",
    "print(\"Modifying Height\")\n",
    "md1[\"Height\"] = 5\n",
    "print(md1)\n",
    "\n",
    "print(\"Deleting Age\")\n",
    "del md1[\"Age\"]\n",
    "print(md1)\n",
    "\n",
    "print(\"Clearing Dictionary\")\n",
    "md1.clear()\n",
    "print(md1)"
   ]
  },
  {
   "cell_type": "markdown",
   "metadata": {},
   "source": [
    "### Set <a id='set' ></a>\n",
    "* { }\n",
    "* unordered collection of items; cannot be indexed\n",
    "* unique elements, no duplicates\n",
    "* mutable"
   ]
  },
  {
   "cell_type": "code",
   "execution_count": 49,
   "metadata": {},
   "outputs": [
    {
     "name": "stdout",
     "output_type": "stream",
     "text": [
      "[2, 8, 4, 4, 6, 8, 0, 2]\n",
      "{0, 2, 4, 6, 8}\n",
      "[0, 2, 4, 6, 8]\n"
     ]
    }
   ],
   "source": [
    "ml1 = [2, 8, 4, 4, 6, 8, 0, 2]\n",
    "print(ml1)\n",
    "ms1 = set(ml1)\n",
    "print(ms1)\n",
    "ml2 = list(ms1)\n",
    "print(ml2)"
   ]
  },
  {
   "cell_type": "markdown",
   "metadata": {},
   "source": [
    "### Range <a id='range' ></a>\n",
    "* generate sequence of numbers"
   ]
  },
  {
   "cell_type": "code",
   "execution_count": 50,
   "metadata": {},
   "outputs": [
    {
     "name": "stdout",
     "output_type": "stream",
     "text": [
      "[0, 1, 2, 3, 4, 5, 6]\n",
      "[7, 8, 9, 10, 11, 12, 13, 14, 15, 16]\n",
      "[7, 9, 11, 13, 15]\n",
      "[17, 14, 11, 8]\n"
     ]
    }
   ],
   "source": [
    "print(list(range(7)))\n",
    "print(list(range(7, 17)))\n",
    "print(list(range(7, 17, 2)))\n",
    "print(list(range(17, 7, -3)))"
   ]
  },
  {
   "cell_type": "markdown",
   "metadata": {},
   "source": [
    "### Loops <a id='loops' ></a>\n",
    "* while\n",
    "* for"
   ]
  },
  {
   "cell_type": "code",
   "execution_count": 51,
   "metadata": {},
   "outputs": [
    {
     "name": "stdout",
     "output_type": "stream",
     "text": [
      "5\n",
      "4\n",
      "3\n",
      "2\n",
      "1\n"
     ]
    }
   ],
   "source": [
    "lcount = 5\n",
    "while(lcount > 0):\n",
    "    print(lcount)\n",
    "    lcount-=1"
   ]
  },
  {
   "cell_type": "code",
   "execution_count": 52,
   "metadata": {},
   "outputs": [
    {
     "name": "stdout",
     "output_type": "stream",
     "text": [
      "P\n",
      "y\n",
      "t\n",
      "h\n",
      "o\n",
      "n\n"
     ]
    }
   ],
   "source": [
    "for letter in \"Python\":\n",
    "    print(letter)"
   ]
  },
  {
   "cell_type": "code",
   "execution_count": 53,
   "metadata": {},
   "outputs": [
    {
     "name": "stdout",
     "output_type": "stream",
     "text": [
      "infy:tcs:ongc:Traverses all stocks\n"
     ]
    }
   ],
   "source": [
    "stocks = [\"infy\", \"tcs\", \"ongc\"]\n",
    "for ustock in stocks:\n",
    "    print(ustock, end = \":\")\n",
    "else:\n",
    "    print(\"Traverses all stocks\")"
   ]
  },
  {
   "cell_type": "code",
   "execution_count": 54,
   "metadata": {},
   "outputs": [
    {
     "name": "stdout",
     "output_type": "stream",
     "text": [
      "1\n",
      "2\n",
      "a\n",
      "x\n",
      "[3, 6, 8, 'k']\n"
     ]
    }
   ],
   "source": [
    "for item in (1, 2, 'a', 'x', [3, 6, 8, 'k']):\n",
    "    print(item)"
   ]
  },
  {
   "cell_type": "code",
   "execution_count": 55,
   "metadata": {},
   "outputs": [
    {
     "name": "stdout",
     "output_type": "stream",
     "text": [
      "0\n",
      "1\n",
      "2\n",
      "3\n"
     ]
    }
   ],
   "source": [
    "for num in range(4):\n",
    "    print(num)"
   ]
  },
  {
   "cell_type": "code",
   "execution_count": 56,
   "metadata": {},
   "outputs": [
    {
     "name": "stdout",
     "output_type": "stream",
     "text": [
      "{1: 'a', 2: 'd', 67: 'b'}\n",
      "Keys\n",
      "1\n",
      "2\n",
      "67\n",
      "Values\n",
      "a\n",
      "d\n",
      "b\n",
      "Items\n",
      "1 a\n",
      "2 d\n",
      "67 b\n"
     ]
    }
   ],
   "source": [
    "d1 = {1:\"a\", 2:\"d\", 67:\"b\"}\n",
    "print(d1)\n",
    "\n",
    "print(\"Keys\")\n",
    "for k in d1.keys():\n",
    "    print(k)\n",
    "\n",
    "print(\"Values\")\n",
    "for v in d1.values():\n",
    "    print(v)\n",
    "\n",
    "print(\"Items\")\n",
    "for k, v in d1.items():\n",
    "    print(k, v)"
   ]
  },
  {
   "cell_type": "code",
   "execution_count": 58,
   "metadata": {},
   "outputs": [
    {
     "name": "stdout",
     "output_type": "stream",
     "text": [
      "Enter String: How many lower characters HERE?\n",
      "Number of Lower Case Letter = 21\n"
     ]
    }
   ],
   "source": [
    "def numLowerCaseLetters(s):\n",
    "    count = 0\n",
    "    for letter in s:\n",
    "        if letter.islower():\n",
    "            count = count + 1;\n",
    "    return count\n",
    "\n",
    "str1 = input(\"Enter String: \")\n",
    "print(\"Number of Lower Case Letter =\", numLowerCaseLetters(str1))"
   ]
  },
  {
   "cell_type": "code",
   "execution_count": 59,
   "metadata": {},
   "outputs": [
    {
     "name": "stdout",
     "output_type": "stream",
     "text": [
      "1x1=1\t1x2=2\t1x3=3\t1x4=4\t1x5=5\t1x6=6\t1x7=7\t1x8=8\t1x9=9\t1x10=10\t\n",
      "2x1=2\t2x2=4\t2x3=6\t2x4=8\t2x5=10\t2x6=12\t2x7=14\t2x8=16\t2x9=18\t2x10=20\t\n",
      "3x1=3\t3x2=6\t3x3=9\t3x4=12\t3x5=15\t3x6=18\t3x7=21\t3x8=24\t3x9=27\t3x10=30\t\n",
      "4x1=4\t4x2=8\t4x3=12\t4x4=16\t4x5=20\t4x6=24\t4x7=28\t4x8=32\t4x9=36\t4x10=40\t\n",
      "5x1=5\t5x2=10\t5x3=15\t5x4=20\t5x5=25\t5x6=30\t5x7=35\t5x8=40\t5x9=45\t5x10=50\t\n",
      "6x1=6\t6x2=12\t6x3=18\t6x4=24\t6x5=30\t6x6=36\t6x7=42\t6x8=48\t6x9=54\t6x10=60\t\n",
      "7x1=7\t7x2=14\t7x3=21\t7x4=28\t7x5=35\t7x6=42\t7x7=49\t7x8=56\t7x9=63\t7x10=70\t\n",
      "8x1=8\t8x2=16\t8x3=24\t8x4=32\t8x5=40\t8x6=48\t8x7=56\t8x8=64\t8x9=72\t8x10=80\t\n",
      "9x1=9\t9x2=18\t9x3=27\t9x4=36\t9x5=45\t9x6=54\t9x7=63\t9x8=72\t9x9=81\t9x10=90\t\n",
      "10x1=10\t10x2=20\t10x3=30\t10x4=40\t10x5=50\t10x6=60\t10x7=70\t10x8=80\t10x9=90\t10x10=100\t\n"
     ]
    }
   ],
   "source": [
    "def printMultTables1to10():\n",
    "    for i in range(1, 11):\n",
    "        for j in range(1, 11):\n",
    "            # print(i, \"x\", j, \"=\", (i*j), end=\"\\t\")\n",
    "            print(i, end=\"\")\n",
    "            print(\"x\", end=\"\")\n",
    "            print(j, end=\"\")\n",
    "            print(\"=\", end=\"\")\n",
    "            print((i*j), end=\"\\t\")\n",
    "        print()\n",
    "\n",
    "printMultTables1to10()"
   ]
  },
  {
   "cell_type": "code",
   "execution_count": 60,
   "metadata": {},
   "outputs": [
    {
     "name": "stdout",
     "output_type": "stream",
     "text": [
      "Enter String: how many characters here?\n",
      "Enter Character to count: h\n",
      "3\n"
     ]
    }
   ],
   "source": [
    "def char_count(s, char):\n",
    "    count = 0\n",
    "    for letter in s:\n",
    "        if letter == char:\n",
    "            count = count + 1\n",
    "    return count\n",
    "\n",
    "s1 = input(\"Enter String: \")\n",
    "c1 = input(\"Enter Character to count: \")\n",
    "print(char_count(s1, c1))"
   ]
  },
  {
   "cell_type": "code",
   "execution_count": null,
   "metadata": {},
   "outputs": [],
   "source": []
  }
 ],
 "metadata": {
  "kernelspec": {
   "display_name": "Python 3",
   "language": "python",
   "name": "python3"
  },
  "language_info": {
   "codemirror_mode": {
    "name": "ipython",
    "version": 3
   },
   "file_extension": ".py",
   "mimetype": "text/x-python",
   "name": "python",
   "nbconvert_exporter": "python",
   "pygments_lexer": "ipython3",
   "version": "3.7.3"
  },
  "toc": {
   "base_numbering": 1,
   "nav_menu": {},
   "number_sections": false,
   "sideBar": true,
   "skip_h1_title": true,
   "title_cell": "Table of Contents",
   "title_sidebar": "Contents",
   "toc_cell": false,
   "toc_position": {},
   "toc_section_display": true,
   "toc_window_display": true
  }
 },
 "nbformat": 4,
 "nbformat_minor": 2
}
